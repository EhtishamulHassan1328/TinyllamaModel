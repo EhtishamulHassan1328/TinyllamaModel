{
  "cells": [
    {
      "cell_type": "code",
      "execution_count": null,
      "metadata": {
        "colab": {
          "base_uri": "https://localhost:8080/"
        },
        "id": "YlY835aC1Rjs",
        "outputId": "9f8e6651-3ed8-4bc0-becd-a1b35b048959"
      },
      "outputs": [
        {
          "name": "stdout",
          "output_type": "stream",
          "text": [
            "Requirement already satisfied: flask in /usr/local/lib/python3.10/dist-packages (2.2.5)\n",
            "Requirement already satisfied: flask_cors in /usr/local/lib/python3.10/dist-packages (4.0.0)\n",
            "Requirement already satisfied: flask_ngrok in /usr/local/lib/python3.10/dist-packages (0.0.25)\n",
            "Requirement already satisfied: Werkzeug>=2.2.2 in /usr/local/lib/python3.10/dist-packages (from flask) (3.0.1)\n",
            "Requirement already satisfied: Jinja2>=3.0 in /usr/local/lib/python3.10/dist-packages (from flask) (3.1.3)\n",
            "Requirement already satisfied: itsdangerous>=2.0 in /usr/local/lib/python3.10/dist-packages (from flask) (2.1.2)\n",
            "Requirement already satisfied: click>=8.0 in /usr/local/lib/python3.10/dist-packages (from flask) (8.1.7)\n",
            "Requirement already satisfied: requests in /usr/local/lib/python3.10/dist-packages (from flask_ngrok) (2.31.0)\n",
            "Requirement already satisfied: MarkupSafe>=2.0 in /usr/local/lib/python3.10/dist-packages (from Jinja2>=3.0->flask) (2.1.5)\n",
            "Requirement already satisfied: charset-normalizer<4,>=2 in /usr/local/lib/python3.10/dist-packages (from requests->flask_ngrok) (3.3.2)\n",
            "Requirement already satisfied: idna<4,>=2.5 in /usr/local/lib/python3.10/dist-packages (from requests->flask_ngrok) (3.6)\n",
            "Requirement already satisfied: urllib3<3,>=1.21.1 in /usr/local/lib/python3.10/dist-packages (from requests->flask_ngrok) (2.0.7)\n",
            "Requirement already satisfied: certifi>=2017.4.17 in /usr/local/lib/python3.10/dist-packages (from requests->flask_ngrok) (2024.2.2)\n"
          ]
        }
      ],
      "source": [
        "!pip install flask flask_cors flask_ngrok"
      ]
    },
    {
      "cell_type": "code",
      "execution_count": null,
      "metadata": {
        "colab": {
          "base_uri": "https://localhost:8080/"
        },
        "id": "eaiSZinQ1ZfS",
        "outputId": "a33b5538-ef6f-4cd2-efed-0aa2d4811d92"
      },
      "outputs": [
        {
          "name": "stdout",
          "output_type": "stream",
          "text": [
            "--2024-02-18 18:33:15--  https://bin.equinox.io/c/4VmDzA7iaHb/ngrok-stable-linux-amd64.zip\n",
            "Resolving bin.equinox.io (bin.equinox.io)... 52.202.168.65, 18.205.222.128, 54.161.241.46, ...\n",
            "Connecting to bin.equinox.io (bin.equinox.io)|52.202.168.65|:443... connected.\n",
            "HTTP request sent, awaiting response... 200 OK\n",
            "Length: 13921656 (13M) [application/octet-stream]\n",
            "Saving to: ‘ngrok-stable-linux-amd64.zip’\n",
            "\n",
            "ngrok-stable-linux- 100%[===================>]  13.28M  18.1MB/s    in 0.7s    \n",
            "\n",
            "2024-02-18 18:33:16 (18.1 MB/s) - ‘ngrok-stable-linux-amd64.zip’ saved [13921656/13921656]\n",
            "\n",
            "Archive:  ngrok-stable-linux-amd64.zip\n",
            "  inflating: ngrok                   \n"
          ]
        }
      ],
      "source": [
        "!wget https://bin.equinox.io/c/4VmDzA7iaHb/ngrok-stable-linux-amd64.zip\n",
        "!unzip ngrok-stable-linux-amd64.zip"
      ]
    },
    {
      "cell_type": "code",
      "execution_count": null,
      "metadata": {
        "colab": {
          "base_uri": "https://localhost:8080/"
        },
        "id": "-PdpkKTQ1ba0",
        "outputId": "21c58ea5-b682-4a52-f926-1b8de037ea42"
      },
      "outputs": [
        {
          "name": "stdout",
          "output_type": "stream",
          "text": [
            "Requirement already satisfied: pyngrok in /usr/local/lib/python3.10/dist-packages (7.1.2)\n",
            "Requirement already satisfied: PyYAML>=5.1 in /usr/local/lib/python3.10/dist-packages (from pyngrok) (6.0.1)\n",
            "Ngrok Tunnel URL: https://4d79-34-125-18-162.ngrok-free.app\n"
          ]
        }
      ],
      "source": [
        "!pip install pyngrok\n",
        "from pyngrok import ngrok\n",
        "\n",
        "# Enter your ngrok authentication token here\n",
        "ngrok.set_auth_token(\"2cRnHQdmuO04eM0YVgAj9aDmz2P_6B5XpjPTvVQKAAfk7GbBi\")\n",
        "\n",
        "# Start ngrok tunnel\n",
        "ngrok_tunnel = ngrok.connect(5000)\n",
        "\n",
        "# Print ngrok URL\n",
        "print(\"Ngrok Tunnel URL:\", ngrok_tunnel.public_url)\n"
      ]
    },
    {
      "cell_type": "code",
      "execution_count": null,
      "metadata": {
        "colab": {
          "background_save": true,
          "base_uri": "https://localhost:8080/"
        },
        "id": "bexDKOmi1d9B",
        "outputId": "d6a902a9-ae19-4f82-e765-3000ffd6303d"
      },
      "outputs": [
        {
          "name": "stdout",
          "output_type": "stream",
          "text": [
            " * Serving Flask app '__main__'\n",
            " * Debug mode: off\n"
          ]
        },
        {
          "name": "stderr",
          "output_type": "stream",
          "text": [
            "INFO:werkzeug:\u001b[31m\u001b[1mWARNING: This is a development server. Do not use it in a production deployment. Use a production WSGI server instead.\u001b[0m\n",
            " * Running on http://127.0.0.1:5000\n",
            "INFO:werkzeug:\u001b[33mPress CTRL+C to quit\u001b[0m\n"
          ]
        },
        {
          "name": "stdout",
          "output_type": "stream",
          "text": [
            " * Running on http://4d79-34-125-18-162.ngrok-free.app\n",
            " * Traffic stats available on http://127.0.0.1:4040\n"
          ]
        },
        {
          "name": "stderr",
          "output_type": "stream",
          "text": [
            "INFO:werkzeug:127.0.0.1 - - [18/Feb/2024 18:34:32] \"\u001b[31m\u001b[1mPOST /generate_response HTTP/1.1\u001b[0m\" 400 -\n",
            "INFO:werkzeug:127.0.0.1 - - [18/Feb/2024 18:36:25] \"POST /generate_response HTTP/1.1\" 200 -\n",
            "INFO:werkzeug:127.0.0.1 - - [18/Feb/2024 18:45:12] \"POST /generate_response HTTP/1.1\" 200 -\n",
            "INFO:werkzeug:127.0.0.1 - - [18/Feb/2024 18:47:32] \"POST /generate_response HTTP/1.1\" 200 -\n"
          ]
        }
      ],
      "source": [
        "from flask import Flask, jsonify, request\n",
        "from flask_cors import CORS\n",
        "from flask_ngrok import run_with_ngrok\n",
        "from transformers import pipeline\n",
        "\n",
        "# Initialize the Flask application\n",
        "application = Flask(__name__)\n",
        "\n",
        "# Run the Flask application with ngrok\n",
        "run_with_ngrok(application)\n",
        "\n",
        "# Enabling CORS for all routes\n",
        "CORS(application)\n",
        "\n",
        "# Random API key\n",
        "API_KEY = 'ehtisham'\n",
        "\n",
        "# Load the text generation pipeline\n",
        "pipe = pipeline(\"text-generation\", model=\"TinyLlama/TinyLlama-1.1B-Chat-v1.0\")\n",
        "\n",
        "# Home Page Route\n",
        "@application.route('/', methods=['GET'])\n",
        "def home():\n",
        "    return \"Home route\"\n",
        "\n",
        "# Generate Response Route\n",
        "@application.route('/generate_response', methods=['POST'])\n",
        "def generate_response():\n",
        "    try:\n",
        "        if 'api_key' not in request.json:\n",
        "            return jsonify({'error': 'API key not passed by the user.'}), 401\n",
        "\n",
        "        if request.json['api_key'] != API_KEY:\n",
        "            return jsonify({'error':'API key not matched.'}), 401\n",
        "\n",
        "        # Get the input history from the request\n",
        "        history = request.json.get('history')\n",
        "\n",
        "        # Check if history is None or empty\n",
        "        if history is None or len(history) == 0:\n",
        "            return jsonify({'error': 'Please provide a valid history'}), 400\n",
        "\n",
        "        # Check if the last message in history has the role of the user\n",
        "        if history[-1]['role'] != 'user':\n",
        "            return jsonify({'error': 'The last message in history should be from the user.'}), 400\n",
        "\n",
        "        try:\n",
        "            # Concatenate the history messages into a single string\n",
        "            history_text = \" \".join([msg['message'] for msg in history])\n",
        "\n",
        "            # Generate response using the text generation pipeline\n",
        "            response = pipe(history_text, max_new_tokens=256, do_sample=True, temperature=0.7, top_k=50, top_p=0.95)\n",
        "\n",
        "            # Extract the generated text from the response\n",
        "            generated_text = response[0][\"generated_text\"]\n",
        "\n",
        "            # Append the generated text to the history with assistant role\n",
        "            history.append({\n",
        "                'role': 'assistant',\n",
        "                'message': generated_text\n",
        "            })\n",
        "\n",
        "            # Construct the JSON response manually\n",
        "            response_data = {'history': history}\n",
        "            return jsonify(response_data), 200\n",
        "\n",
        "        except Exception as e:\n",
        "            return jsonify({'error': str(e)}), 500\n",
        "\n",
        "    except Exception as e:\n",
        "        return jsonify({'error': str(e)}), 500\n",
        "\n",
        "# Run the Flask application\n",
        "if __name__ == '__main__':\n",
        "    application.run()\n"
      ]
    },
    {
      "cell_type": "code",
      "execution_count": null,
      "metadata": {
        "id": "ryQAmCSM1w_c"
      },
      "outputs": [],
      "source": []
    }
  ],
  "metadata": {
    "accelerator": "GPU",
    "colab": {
      "gpuType": "T4",
      "provenance": []
    },
    "kernelspec": {
      "display_name": "Python 3",
      "name": "python3"
    },
    "language_info": {
      "name": "python"
    }
  },
  "nbformat": 4,
  "nbformat_minor": 0
}